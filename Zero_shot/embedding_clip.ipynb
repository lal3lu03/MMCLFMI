{
 "cells": [
  {
   "cell_type": "code",
   "execution_count": 1,
   "metadata": {},
   "outputs": [],
   "source": [
    "import pandas as pd\n",
    "import os\n",
    "import torch\n",
    "import torch.nn as nn\n",
    "import json\n",
    "import clip_.clip as clip\n",
    "from clip_.clip import _transform\n",
    "from clip_.model import CLIPGeneral\n",
    "from tqdm.notebook import tqdm\n",
    "from PIL import Image\n",
    "\n",
    "\n",
    "\n",
    "checkpoint_paths = [\n",
    "    '/data/checkpoints/checkpoints_icml22/yfcc/clip_rn50_yfcc_epoch_28.pt',\n",
    "    '/data/checkpoints/checkpoints_icml22/yfcc/cloob_rn50_yfcc_epoch_28.pt',\n",
    "]\n",
    "\n",
    "df_jpg = pd.read_csv('/data/csv/jpg_path_fingings.csv')\n",
    "df_jpg = df_jpg.iloc[:, :-1]\n",
    "\n",
    "model_names = ['clip_rn50_yfcc_epoch_28', 'cloob_rn50_yfcc_epoch_28']"
   ]
  },
  {
   "cell_type": "code",
   "execution_count": 2,
   "metadata": {},
   "outputs": [
    {
     "name": "stdout",
     "output_type": "stream",
     "text": [
      "clip_rn50_yfcc_epoch_28\n"
     ]
    }
   ],
   "source": [
    "#Parameters\n",
    "model_to_use = 0\n",
    "model_to_embed = model_names[model_to_use]\n",
    "#numb_images = 10000\n",
    "number_of_gpu = \"0\"\n",
    "print(model_to_embed)"
   ]
  },
  {
   "cell_type": "code",
   "execution_count": 3,
   "metadata": {},
   "outputs": [],
   "source": [
    "embedding_directory = \"/data/embbeding/embeddings/rn50_yfcc/\" + model_to_embed\n",
    "os.makedirs(embedding_directory, exist_ok=True)  # Create the embedding directory if it doesn't exist"
   ]
  },
  {
   "cell_type": "code",
   "execution_count": 4,
   "metadata": {},
   "outputs": [],
   "source": [
    "def load_checkpoint(checkpoint_path):\n",
    "    # Load checkpoint\n",
    "    checkpoint = torch.load(checkpoint_path)\n",
    "    model_config_file = os.path.join('/data/model_config', checkpoint['model_config_file'])\n",
    "    \n",
    "    device = torch.device(\"cuda:\"+number_of_gpu if torch.cuda.is_available() else \"cpu\")\n",
    "    print(\"Device is\", device)\n",
    "\n",
    "    # Load model config\n",
    "    assert os.path.exists(model_config_file)\n",
    "    with open(model_config_file, 'r') as f:\n",
    "        model_info = json.load(f)\n",
    "    model = CLIPGeneral(**model_info)\n",
    "    preprocess = _transform(model.visual.input_resolution, is_train=False)\n",
    "\n",
    "    # Load model state dictionary\n",
    "    sd = checkpoint[\"state_dict\"]\n",
    "    sd = {k[len('module.'):]: v for k, v in sd.items()}  # Remove 'module.' prefix from keys for DataParallel\n",
    "    if 'logit_scale_hopfield' in sd:\n",
    "        sd.pop('logit_scale_hopfield', None)\n",
    "    model.load_state_dict(sd)\n",
    "\n",
    "    model = model.to(device)\n",
    "    model.eval()\n",
    "\n",
    "    return model, preprocess, device\n",
    "\n",
    "\n"
   ]
  },
  {
   "cell_type": "code",
   "execution_count": 5,
   "metadata": {},
   "outputs": [
    {
     "data": {
      "text/html": [
       "<div>\n",
       "<style scoped>\n",
       "    .dataframe tbody tr th:only-of-type {\n",
       "        vertical-align: middle;\n",
       "    }\n",
       "\n",
       "    .dataframe tbody tr th {\n",
       "        vertical-align: top;\n",
       "    }\n",
       "\n",
       "    .dataframe thead th {\n",
       "        text-align: right;\n",
       "    }\n",
       "</style>\n",
       "<table border=\"1\" class=\"dataframe\">\n",
       "  <thead>\n",
       "    <tr style=\"text-align: right;\">\n",
       "      <th></th>\n",
       "      <th>study_id</th>\n",
       "      <th>jpg_path</th>\n",
       "      <th>jpg_name</th>\n",
       "    </tr>\n",
       "  </thead>\n",
       "  <tbody>\n",
       "    <tr>\n",
       "      <th>0</th>\n",
       "      <td>50414267</td>\n",
       "      <td>/system/user/publicdata/MIMIC_CXR/hageneder/JP...</td>\n",
       "      <td>02aa804e-bde0afdd-112c0b34-7bc16630-4e384014</td>\n",
       "    </tr>\n",
       "    <tr>\n",
       "      <th>1</th>\n",
       "      <td>50414267</td>\n",
       "      <td>/system/user/publicdata/MIMIC_CXR/hageneder/JP...</td>\n",
       "      <td>174413ec-4ec4c1f7-34ea26b7-c5f994f8-79ef1962</td>\n",
       "    </tr>\n",
       "    <tr>\n",
       "      <th>2</th>\n",
       "      <td>53189527</td>\n",
       "      <td>/system/user/publicdata/MIMIC_CXR/hageneder/JP...</td>\n",
       "      <td>2a2277a9-b0ded155-c0de8eb9-c124d10e-82c5caab</td>\n",
       "    </tr>\n",
       "    <tr>\n",
       "      <th>3</th>\n",
       "      <td>53189527</td>\n",
       "      <td>/system/user/publicdata/MIMIC_CXR/hageneder/JP...</td>\n",
       "      <td>e084de3b-be89b11e-20fe3f9f-9c8d8dfe-4cfd202c</td>\n",
       "    </tr>\n",
       "    <tr>\n",
       "      <th>4</th>\n",
       "      <td>53911762</td>\n",
       "      <td>/system/user/publicdata/MIMIC_CXR/hageneder/JP...</td>\n",
       "      <td>68b5c4b1-227d0485-9cc38c3f-7b84ab51-4b472714</td>\n",
       "    </tr>\n",
       "  </tbody>\n",
       "</table>\n",
       "</div>"
      ],
      "text/plain": [
       "   study_id                                           jpg_path   \n",
       "0  50414267  /system/user/publicdata/MIMIC_CXR/hageneder/JP...  \\\n",
       "1  50414267  /system/user/publicdata/MIMIC_CXR/hageneder/JP...   \n",
       "2  53189527  /system/user/publicdata/MIMIC_CXR/hageneder/JP...   \n",
       "3  53189527  /system/user/publicdata/MIMIC_CXR/hageneder/JP...   \n",
       "4  53911762  /system/user/publicdata/MIMIC_CXR/hageneder/JP...   \n",
       "\n",
       "                                       jpg_name  \n",
       "0  02aa804e-bde0afdd-112c0b34-7bc16630-4e384014  \n",
       "1  174413ec-4ec4c1f7-34ea26b7-c5f994f8-79ef1962  \n",
       "2  2a2277a9-b0ded155-c0de8eb9-c124d10e-82c5caab  \n",
       "3  e084de3b-be89b11e-20fe3f9f-9c8d8dfe-4cfd202c  \n",
       "4  68b5c4b1-227d0485-9cc38c3f-7b84ab51-4b472714  "
      ]
     },
     "execution_count": 5,
     "metadata": {},
     "output_type": "execute_result"
    }
   ],
   "source": [
    "#df_jpg add a column with the jpg_name the name is the last part of the path\n",
    "df_jpg['jpg_name'] = df_jpg['jpg_path'].apply(lambda x: x.split('/')[-1])\n",
    "#delet the .jpg from the name this are always the last 4 letters\n",
    "df_jpg['jpg_name'] = df_jpg['jpg_name'].apply(lambda x: x[:-4])\n",
    "df_jpg.head()\n"
   ]
  },
  {
   "cell_type": "code",
   "execution_count": 7,
   "metadata": {},
   "outputs": [
    {
     "name": "stdout",
     "output_type": "stream",
     "text": [
      "Device is cuda:0\n"
     ]
    },
    {
     "data": {
      "application/vnd.jupyter.widget-view+json": {
       "model_id": "9b9e9b3d7e9a4b03b42a76fa30224c67",
       "version_major": 2,
       "version_minor": 0
      },
      "text/plain": [
       "  0%|          | 0/377095 [00:00<?, ?it/s]"
      ]
     },
     "metadata": {},
     "output_type": "display_data"
    },
    {
     "name": "stdout",
     "output_type": "stream",
     "text": [
      "Skipped 0 embeddings.\n"
     ]
    }
   ],
   "source": [
    "os.makedirs(embedding_directory, exist_ok=True)  # Create the embedding directory if it doesn't exist\n",
    "\n",
    "# Load the checkpoint and model\n",
    "model, preprocess, device = load_checkpoint(checkpoint_paths[model_to_use])\n",
    "device = torch.device(\"cuda:\"+number_of_gpu if torch.cuda.is_available() else \"cpu\")\n",
    "model = model.to(device)\n",
    "\n",
    "def save_embedding(image_path, embedding_path):\n",
    "    image = preprocess(Image.open(image_path)).unsqueeze(0).cuda(device=device).type(model.dtype)\n",
    "    with torch.no_grad():\n",
    "        embedding = model.encode_image(image)\n",
    "    torch.save(embedding, embedding_path)\n",
    "\n",
    "# Iterate over the DataFrame and save embeddings\n",
    "embeddings = []\n",
    "skipped = 0\n",
    "with tqdm(total=len(df_jpg)) as pbar:\n",
    "    for index, row in df_jpg.iterrows():\n",
    "        image_path = row['jpg_path']\n",
    "        embedding_path = os.path.join(embedding_directory, row['jpg_name'] + '.pt')\n",
    "        if os.path.exists(embedding_path):\n",
    "            skipped += 1\n",
    "            df_jpg.at[index, 'embedding_path_' + model_to_embed] = embedding_path\n",
    "            continue\n",
    "        save_embedding(image_path, embedding_path)\n",
    "        df_jpg.at[index, 'embedding_path_' + model_to_embed] = embedding_path\n",
    "        pbar.update(1)\n",
    "#clear cache\n",
    "torch.cuda.empty_cache()\n",
    "\n",
    "print(f\"Skipped {skipped} embeddings.\")  # Print the number of skipped embeddings.\n"
   ]
  },
  {
   "cell_type": "code",
   "execution_count": 8,
   "metadata": {},
   "outputs": [
    {
     "data": {
      "text/html": [
       "<div>\n",
       "<style scoped>\n",
       "    .dataframe tbody tr th:only-of-type {\n",
       "        vertical-align: middle;\n",
       "    }\n",
       "\n",
       "    .dataframe tbody tr th {\n",
       "        vertical-align: top;\n",
       "    }\n",
       "\n",
       "    .dataframe thead th {\n",
       "        text-align: right;\n",
       "    }\n",
       "</style>\n",
       "<table border=\"1\" class=\"dataframe\">\n",
       "  <thead>\n",
       "    <tr style=\"text-align: right;\">\n",
       "      <th></th>\n",
       "      <th>study_id</th>\n",
       "      <th>jpg_path</th>\n",
       "      <th>jpg_name</th>\n",
       "      <th>embedding_path_clip_rn50_yfcc_epoch_28</th>\n",
       "    </tr>\n",
       "  </thead>\n",
       "  <tbody>\n",
       "    <tr>\n",
       "      <th>0</th>\n",
       "      <td>50414267</td>\n",
       "      <td>/system/user/publicdata/MIMIC_CXR/hageneder/JP...</td>\n",
       "      <td>02aa804e-bde0afdd-112c0b34-7bc16630-4e384014</td>\n",
       "      <td>/system/user/publicdata/MIMIC_CXR/hageneder/em...</td>\n",
       "    </tr>\n",
       "    <tr>\n",
       "      <th>1</th>\n",
       "      <td>50414267</td>\n",
       "      <td>/system/user/publicdata/MIMIC_CXR/hageneder/JP...</td>\n",
       "      <td>174413ec-4ec4c1f7-34ea26b7-c5f994f8-79ef1962</td>\n",
       "      <td>/system/user/publicdata/MIMIC_CXR/hageneder/em...</td>\n",
       "    </tr>\n",
       "    <tr>\n",
       "      <th>2</th>\n",
       "      <td>53189527</td>\n",
       "      <td>/system/user/publicdata/MIMIC_CXR/hageneder/JP...</td>\n",
       "      <td>2a2277a9-b0ded155-c0de8eb9-c124d10e-82c5caab</td>\n",
       "      <td>/system/user/publicdata/MIMIC_CXR/hageneder/em...</td>\n",
       "    </tr>\n",
       "    <tr>\n",
       "      <th>3</th>\n",
       "      <td>53189527</td>\n",
       "      <td>/system/user/publicdata/MIMIC_CXR/hageneder/JP...</td>\n",
       "      <td>e084de3b-be89b11e-20fe3f9f-9c8d8dfe-4cfd202c</td>\n",
       "      <td>/system/user/publicdata/MIMIC_CXR/hageneder/em...</td>\n",
       "    </tr>\n",
       "    <tr>\n",
       "      <th>4</th>\n",
       "      <td>53911762</td>\n",
       "      <td>/system/user/publicdata/MIMIC_CXR/hageneder/JP...</td>\n",
       "      <td>68b5c4b1-227d0485-9cc38c3f-7b84ab51-4b472714</td>\n",
       "      <td>/system/user/publicdata/MIMIC_CXR/hageneder/em...</td>\n",
       "    </tr>\n",
       "    <tr>\n",
       "      <th>...</th>\n",
       "      <td>...</td>\n",
       "      <td>...</td>\n",
       "      <td>...</td>\n",
       "      <td>...</td>\n",
       "    </tr>\n",
       "    <tr>\n",
       "      <th>377090</th>\n",
       "      <td>57132437</td>\n",
       "      <td>/system/user/publicdata/MIMIC_CXR/hageneder/JP...</td>\n",
       "      <td>428e2c18-5721d8f3-35a05001-36f3d080-9053b83c</td>\n",
       "      <td>/system/user/publicdata/MIMIC_CXR/hageneder/em...</td>\n",
       "    </tr>\n",
       "    <tr>\n",
       "      <th>377091</th>\n",
       "      <td>57132437</td>\n",
       "      <td>/system/user/publicdata/MIMIC_CXR/hageneder/JP...</td>\n",
       "      <td>58c403aa-35ff8bd9-73e39f54-8dc9cc5d-e0ec3fa9</td>\n",
       "      <td>/system/user/publicdata/MIMIC_CXR/hageneder/em...</td>\n",
       "    </tr>\n",
       "    <tr>\n",
       "      <th>377092</th>\n",
       "      <td>55368167</td>\n",
       "      <td>/system/user/publicdata/MIMIC_CXR/hageneder/JP...</td>\n",
       "      <td>58766883-376a15ce-3b323a28-6af950a0-16b793bd</td>\n",
       "      <td>/system/user/publicdata/MIMIC_CXR/hageneder/em...</td>\n",
       "    </tr>\n",
       "    <tr>\n",
       "      <th>377093</th>\n",
       "      <td>58621812</td>\n",
       "      <td>/system/user/publicdata/MIMIC_CXR/hageneder/JP...</td>\n",
       "      <td>7ba273af-3d290f8d-e28d0ab4-484b7a86-7fc12b08</td>\n",
       "      <td>/system/user/publicdata/MIMIC_CXR/hageneder/em...</td>\n",
       "    </tr>\n",
       "    <tr>\n",
       "      <th>377094</th>\n",
       "      <td>58971208</td>\n",
       "      <td>/system/user/publicdata/MIMIC_CXR/hageneder/JP...</td>\n",
       "      <td>1a1fe7e3-cbac5d93-b339aeda-86bb86b5-4f31e82e</td>\n",
       "      <td>/system/user/publicdata/MIMIC_CXR/hageneder/em...</td>\n",
       "    </tr>\n",
       "  </tbody>\n",
       "</table>\n",
       "<p>377095 rows × 4 columns</p>\n",
       "</div>"
      ],
      "text/plain": [
       "        study_id                                           jpg_path   \n",
       "0       50414267  /system/user/publicdata/MIMIC_CXR/hageneder/JP...  \\\n",
       "1       50414267  /system/user/publicdata/MIMIC_CXR/hageneder/JP...   \n",
       "2       53189527  /system/user/publicdata/MIMIC_CXR/hageneder/JP...   \n",
       "3       53189527  /system/user/publicdata/MIMIC_CXR/hageneder/JP...   \n",
       "4       53911762  /system/user/publicdata/MIMIC_CXR/hageneder/JP...   \n",
       "...          ...                                                ...   \n",
       "377090  57132437  /system/user/publicdata/MIMIC_CXR/hageneder/JP...   \n",
       "377091  57132437  /system/user/publicdata/MIMIC_CXR/hageneder/JP...   \n",
       "377092  55368167  /system/user/publicdata/MIMIC_CXR/hageneder/JP...   \n",
       "377093  58621812  /system/user/publicdata/MIMIC_CXR/hageneder/JP...   \n",
       "377094  58971208  /system/user/publicdata/MIMIC_CXR/hageneder/JP...   \n",
       "\n",
       "                                            jpg_name   \n",
       "0       02aa804e-bde0afdd-112c0b34-7bc16630-4e384014  \\\n",
       "1       174413ec-4ec4c1f7-34ea26b7-c5f994f8-79ef1962   \n",
       "2       2a2277a9-b0ded155-c0de8eb9-c124d10e-82c5caab   \n",
       "3       e084de3b-be89b11e-20fe3f9f-9c8d8dfe-4cfd202c   \n",
       "4       68b5c4b1-227d0485-9cc38c3f-7b84ab51-4b472714   \n",
       "...                                              ...   \n",
       "377090  428e2c18-5721d8f3-35a05001-36f3d080-9053b83c   \n",
       "377091  58c403aa-35ff8bd9-73e39f54-8dc9cc5d-e0ec3fa9   \n",
       "377092  58766883-376a15ce-3b323a28-6af950a0-16b793bd   \n",
       "377093  7ba273af-3d290f8d-e28d0ab4-484b7a86-7fc12b08   \n",
       "377094  1a1fe7e3-cbac5d93-b339aeda-86bb86b5-4f31e82e   \n",
       "\n",
       "                   embedding_path_clip_rn50_yfcc_epoch_28  \n",
       "0       /system/user/publicdata/MIMIC_CXR/hageneder/em...  \n",
       "1       /system/user/publicdata/MIMIC_CXR/hageneder/em...  \n",
       "2       /system/user/publicdata/MIMIC_CXR/hageneder/em...  \n",
       "3       /system/user/publicdata/MIMIC_CXR/hageneder/em...  \n",
       "4       /system/user/publicdata/MIMIC_CXR/hageneder/em...  \n",
       "...                                                   ...  \n",
       "377090  /system/user/publicdata/MIMIC_CXR/hageneder/em...  \n",
       "377091  /system/user/publicdata/MIMIC_CXR/hageneder/em...  \n",
       "377092  /system/user/publicdata/MIMIC_CXR/hageneder/em...  \n",
       "377093  /system/user/publicdata/MIMIC_CXR/hageneder/em...  \n",
       "377094  /system/user/publicdata/MIMIC_CXR/hageneder/em...  \n",
       "\n",
       "[377095 rows x 4 columns]"
      ]
     },
     "execution_count": 8,
     "metadata": {},
     "output_type": "execute_result"
    }
   ],
   "source": [
    "df_jpg"
   ]
  },
  {
   "cell_type": "code",
   "execution_count": 9,
   "metadata": {},
   "outputs": [
    {
     "name": "stdout",
     "output_type": "stream",
     "text": [
      "377095\n"
     ]
    }
   ],
   "source": [
    "#coutn the number of files in the embedding directory\n",
    "print(len(os.listdir(embedding_directory)))"
   ]
  },
  {
   "cell_type": "code",
   "execution_count": 10,
   "metadata": {},
   "outputs": [],
   "source": [
    "#save the embedding in a dataframe as csv name should be model_to_embed\n",
    "df_embedding = df_jpg.copy()  # create a copy of df_jpg\n",
    "df_embedding.to_csv('/system/user/publicdata/MIMIC_CXR/hageneder/embeddings/rn50_yfcc/' + model_to_embed + '.csv', index=False)\n"
   ]
  },
  {
   "cell_type": "code",
   "execution_count": null,
   "metadata": {},
   "outputs": [],
   "source": []
  }
 ],
 "metadata": {
  "kernelspec": {
   "display_name": "embedding",
   "language": "python",
   "name": "embedding"
  },
  "language_info": {
   "codemirror_mode": {
    "name": "ipython",
    "version": 3
   },
   "file_extension": ".py",
   "mimetype": "text/x-python",
   "name": "python",
   "nbconvert_exporter": "python",
   "pygments_lexer": "ipython3",
   "version": "3.9.16"
  },
  "orig_nbformat": 4
 },
 "nbformat": 4,
 "nbformat_minor": 2
}
